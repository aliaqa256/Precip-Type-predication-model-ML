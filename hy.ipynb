{
 "cells": [
  {
   "cell_type": "code",
   "execution_count": 478,
   "metadata": {},
   "outputs": [],
   "source": [
    "import numpy as np\n",
    "import matplotlib.pyplot as plt\n",
    "import pandas as pd\n",
    "# panadas profiling\n",
    "from pandas_profiling import ProfileReport\n",
    "\n"
   ]
  },
  {
   "cell_type": "code",
   "execution_count": 479,
   "metadata": {},
   "outputs": [
    {
     "data": {
      "text/html": [
       "<div>\n",
       "<style scoped>\n",
       "    .dataframe tbody tr th:only-of-type {\n",
       "        vertical-align: middle;\n",
       "    }\n",
       "\n",
       "    .dataframe tbody tr th {\n",
       "        vertical-align: top;\n",
       "    }\n",
       "\n",
       "    .dataframe thead th {\n",
       "        text-align: right;\n",
       "    }\n",
       "</style>\n",
       "<table border=\"1\" class=\"dataframe\">\n",
       "  <thead>\n",
       "    <tr style=\"text-align: right;\">\n",
       "      <th></th>\n",
       "      <th>Formatted Date</th>\n",
       "      <th>Summary</th>\n",
       "      <th>Precip Type</th>\n",
       "      <th>Temperature (C)</th>\n",
       "      <th>Wind Speed (km/h)</th>\n",
       "      <th>Pressure (millibars)</th>\n",
       "      <th>Humidity</th>\n",
       "    </tr>\n",
       "  </thead>\n",
       "  <tbody>\n",
       "    <tr>\n",
       "      <th>0</th>\n",
       "      <td>2006-04-01 00:00:00.000 +0200</td>\n",
       "      <td>Partly Cloudy</td>\n",
       "      <td>rain</td>\n",
       "      <td>9.472222</td>\n",
       "      <td>14.1197</td>\n",
       "      <td>1015.13</td>\n",
       "      <td>0.89</td>\n",
       "    </tr>\n",
       "    <tr>\n",
       "      <th>1</th>\n",
       "      <td>2006-04-01 01:00:00.000 +0200</td>\n",
       "      <td>Partly Cloudy</td>\n",
       "      <td>rain</td>\n",
       "      <td>9.355556</td>\n",
       "      <td>14.2646</td>\n",
       "      <td>1015.63</td>\n",
       "      <td>0.86</td>\n",
       "    </tr>\n",
       "    <tr>\n",
       "      <th>2</th>\n",
       "      <td>2006-04-01 02:00:00.000 +0200</td>\n",
       "      <td>Mostly Cloudy</td>\n",
       "      <td>rain</td>\n",
       "      <td>9.377778</td>\n",
       "      <td>3.9284</td>\n",
       "      <td>1015.94</td>\n",
       "      <td>0.89</td>\n",
       "    </tr>\n",
       "    <tr>\n",
       "      <th>3</th>\n",
       "      <td>2006-04-01 03:00:00.000 +0200</td>\n",
       "      <td>Partly Cloudy</td>\n",
       "      <td>rain</td>\n",
       "      <td>8.288889</td>\n",
       "      <td>14.1036</td>\n",
       "      <td>1016.41</td>\n",
       "      <td>0.83</td>\n",
       "    </tr>\n",
       "    <tr>\n",
       "      <th>4</th>\n",
       "      <td>2006-04-01 04:00:00.000 +0200</td>\n",
       "      <td>Mostly Cloudy</td>\n",
       "      <td>rain</td>\n",
       "      <td>8.755556</td>\n",
       "      <td>11.0446</td>\n",
       "      <td>1016.51</td>\n",
       "      <td>0.83</td>\n",
       "    </tr>\n",
       "    <tr>\n",
       "      <th>5</th>\n",
       "      <td>2006-04-01 05:00:00.000 +0200</td>\n",
       "      <td>Partly Cloudy</td>\n",
       "      <td>rain</td>\n",
       "      <td>9.222222</td>\n",
       "      <td>13.9587</td>\n",
       "      <td>1016.66</td>\n",
       "      <td>0.85</td>\n",
       "    </tr>\n",
       "    <tr>\n",
       "      <th>6</th>\n",
       "      <td>2006-04-01 06:00:00.000 +0200</td>\n",
       "      <td>Partly Cloudy</td>\n",
       "      <td>rain</td>\n",
       "      <td>7.733333</td>\n",
       "      <td>12.3648</td>\n",
       "      <td>1016.72</td>\n",
       "      <td>0.95</td>\n",
       "    </tr>\n",
       "    <tr>\n",
       "      <th>7</th>\n",
       "      <td>2006-04-01 07:00:00.000 +0200</td>\n",
       "      <td>Partly Cloudy</td>\n",
       "      <td>rain</td>\n",
       "      <td>8.772222</td>\n",
       "      <td>14.1519</td>\n",
       "      <td>1016.84</td>\n",
       "      <td>0.89</td>\n",
       "    </tr>\n",
       "    <tr>\n",
       "      <th>8</th>\n",
       "      <td>2006-04-01 08:00:00.000 +0200</td>\n",
       "      <td>Partly Cloudy</td>\n",
       "      <td>rain</td>\n",
       "      <td>10.822222</td>\n",
       "      <td>11.3183</td>\n",
       "      <td>1017.37</td>\n",
       "      <td>0.82</td>\n",
       "    </tr>\n",
       "    <tr>\n",
       "      <th>9</th>\n",
       "      <td>2006-04-01 09:00:00.000 +0200</td>\n",
       "      <td>Partly Cloudy</td>\n",
       "      <td>rain</td>\n",
       "      <td>13.772222</td>\n",
       "      <td>12.5258</td>\n",
       "      <td>1017.22</td>\n",
       "      <td>0.72</td>\n",
       "    </tr>\n",
       "  </tbody>\n",
       "</table>\n",
       "</div>"
      ],
      "text/plain": [
       "                  Formatted Date        Summary Precip Type  Temperature (C)  \\\n",
       "0  2006-04-01 00:00:00.000 +0200  Partly Cloudy        rain         9.472222   \n",
       "1  2006-04-01 01:00:00.000 +0200  Partly Cloudy        rain         9.355556   \n",
       "2  2006-04-01 02:00:00.000 +0200  Mostly Cloudy        rain         9.377778   \n",
       "3  2006-04-01 03:00:00.000 +0200  Partly Cloudy        rain         8.288889   \n",
       "4  2006-04-01 04:00:00.000 +0200  Mostly Cloudy        rain         8.755556   \n",
       "5  2006-04-01 05:00:00.000 +0200  Partly Cloudy        rain         9.222222   \n",
       "6  2006-04-01 06:00:00.000 +0200  Partly Cloudy        rain         7.733333   \n",
       "7  2006-04-01 07:00:00.000 +0200  Partly Cloudy        rain         8.772222   \n",
       "8  2006-04-01 08:00:00.000 +0200  Partly Cloudy        rain        10.822222   \n",
       "9  2006-04-01 09:00:00.000 +0200  Partly Cloudy        rain        13.772222   \n",
       "\n",
       "   Wind Speed (km/h)  Pressure (millibars)  Humidity  \n",
       "0            14.1197               1015.13      0.89  \n",
       "1            14.2646               1015.63      0.86  \n",
       "2             3.9284               1015.94      0.89  \n",
       "3            14.1036               1016.41      0.83  \n",
       "4            11.0446               1016.51      0.83  \n",
       "5            13.9587               1016.66      0.85  \n",
       "6            12.3648               1016.72      0.95  \n",
       "7            14.1519               1016.84      0.89  \n",
       "8            11.3183               1017.37      0.82  \n",
       "9            12.5258               1017.22      0.72  "
      ]
     },
     "execution_count": 479,
     "metadata": {},
     "output_type": "execute_result"
    }
   ],
   "source": [
    "df = pd.read_csv('./EnglandWeather.csv')\n",
    "df.head(10)\n"
   ]
  },
  {
   "cell_type": "code",
   "execution_count": 480,
   "metadata": {},
   "outputs": [
    {
     "data": {
      "text/html": [
       "<div>\n",
       "<style scoped>\n",
       "    .dataframe tbody tr th:only-of-type {\n",
       "        vertical-align: middle;\n",
       "    }\n",
       "\n",
       "    .dataframe tbody tr th {\n",
       "        vertical-align: top;\n",
       "    }\n",
       "\n",
       "    .dataframe thead th {\n",
       "        text-align: right;\n",
       "    }\n",
       "</style>\n",
       "<table border=\"1\" class=\"dataframe\">\n",
       "  <thead>\n",
       "    <tr style=\"text-align: right;\">\n",
       "      <th></th>\n",
       "      <th>Temperature (C)</th>\n",
       "      <th>Wind Speed (km/h)</th>\n",
       "      <th>Pressure (millibars)</th>\n",
       "      <th>Humidity</th>\n",
       "    </tr>\n",
       "  </thead>\n",
       "  <tbody>\n",
       "    <tr>\n",
       "      <th>count</th>\n",
       "      <td>96453.000000</td>\n",
       "      <td>96453.000000</td>\n",
       "      <td>96453.000000</td>\n",
       "      <td>96453.000000</td>\n",
       "    </tr>\n",
       "    <tr>\n",
       "      <th>mean</th>\n",
       "      <td>11.932678</td>\n",
       "      <td>10.810640</td>\n",
       "      <td>1003.235956</td>\n",
       "      <td>0.734899</td>\n",
       "    </tr>\n",
       "    <tr>\n",
       "      <th>std</th>\n",
       "      <td>9.551546</td>\n",
       "      <td>6.913571</td>\n",
       "      <td>116.969906</td>\n",
       "      <td>0.195473</td>\n",
       "    </tr>\n",
       "    <tr>\n",
       "      <th>min</th>\n",
       "      <td>-21.822222</td>\n",
       "      <td>0.000000</td>\n",
       "      <td>0.000000</td>\n",
       "      <td>0.000000</td>\n",
       "    </tr>\n",
       "    <tr>\n",
       "      <th>25%</th>\n",
       "      <td>4.688889</td>\n",
       "      <td>5.828200</td>\n",
       "      <td>1011.900000</td>\n",
       "      <td>0.600000</td>\n",
       "    </tr>\n",
       "    <tr>\n",
       "      <th>50%</th>\n",
       "      <td>12.000000</td>\n",
       "      <td>9.965900</td>\n",
       "      <td>1016.450000</td>\n",
       "      <td>0.780000</td>\n",
       "    </tr>\n",
       "    <tr>\n",
       "      <th>75%</th>\n",
       "      <td>18.838889</td>\n",
       "      <td>14.135800</td>\n",
       "      <td>1021.090000</td>\n",
       "      <td>0.890000</td>\n",
       "    </tr>\n",
       "    <tr>\n",
       "      <th>max</th>\n",
       "      <td>39.905556</td>\n",
       "      <td>63.852600</td>\n",
       "      <td>1046.380000</td>\n",
       "      <td>1.000000</td>\n",
       "    </tr>\n",
       "  </tbody>\n",
       "</table>\n",
       "</div>"
      ],
      "text/plain": [
       "       Temperature (C)  Wind Speed (km/h)  Pressure (millibars)      Humidity\n",
       "count     96453.000000       96453.000000          96453.000000  96453.000000\n",
       "mean         11.932678          10.810640           1003.235956      0.734899\n",
       "std           9.551546           6.913571            116.969906      0.195473\n",
       "min         -21.822222           0.000000              0.000000      0.000000\n",
       "25%           4.688889           5.828200           1011.900000      0.600000\n",
       "50%          12.000000           9.965900           1016.450000      0.780000\n",
       "75%          18.838889          14.135800           1021.090000      0.890000\n",
       "max          39.905556          63.852600           1046.380000      1.000000"
      ]
     },
     "execution_count": 480,
     "metadata": {},
     "output_type": "execute_result"
    }
   ],
   "source": [
    "df.describe()"
   ]
  },
  {
   "cell_type": "code",
   "execution_count": 481,
   "metadata": {},
   "outputs": [
    {
     "data": {
      "text/html": [
       "<div>\n",
       "<style scoped>\n",
       "    .dataframe tbody tr th:only-of-type {\n",
       "        vertical-align: middle;\n",
       "    }\n",
       "\n",
       "    .dataframe tbody tr th {\n",
       "        vertical-align: top;\n",
       "    }\n",
       "\n",
       "    .dataframe thead th {\n",
       "        text-align: right;\n",
       "    }\n",
       "</style>\n",
       "<table border=\"1\" class=\"dataframe\">\n",
       "  <thead>\n",
       "    <tr style=\"text-align: right;\">\n",
       "      <th></th>\n",
       "      <th>Temperature (C)</th>\n",
       "      <th>Wind Speed (km/h)</th>\n",
       "      <th>Pressure (millibars)</th>\n",
       "      <th>Humidity</th>\n",
       "    </tr>\n",
       "  </thead>\n",
       "  <tbody>\n",
       "    <tr>\n",
       "      <th>count</th>\n",
       "      <td>95936.000000</td>\n",
       "      <td>95936.000000</td>\n",
       "      <td>95936.000000</td>\n",
       "      <td>95936.000000</td>\n",
       "    </tr>\n",
       "    <tr>\n",
       "      <th>mean</th>\n",
       "      <td>11.940976</td>\n",
       "      <td>10.804936</td>\n",
       "      <td>1003.150038</td>\n",
       "      <td>0.734841</td>\n",
       "    </tr>\n",
       "    <tr>\n",
       "      <th>std</th>\n",
       "      <td>9.570671</td>\n",
       "      <td>6.920727</td>\n",
       "      <td>117.276976</td>\n",
       "      <td>0.195724</td>\n",
       "    </tr>\n",
       "    <tr>\n",
       "      <th>min</th>\n",
       "      <td>-21.822222</td>\n",
       "      <td>0.000000</td>\n",
       "      <td>0.000000</td>\n",
       "      <td>0.000000</td>\n",
       "    </tr>\n",
       "    <tr>\n",
       "      <th>25%</th>\n",
       "      <td>4.604167</td>\n",
       "      <td>5.796000</td>\n",
       "      <td>1011.890000</td>\n",
       "      <td>0.600000</td>\n",
       "    </tr>\n",
       "    <tr>\n",
       "      <th>50%</th>\n",
       "      <td>12.033333</td>\n",
       "      <td>9.933700</td>\n",
       "      <td>1016.420000</td>\n",
       "      <td>0.780000</td>\n",
       "    </tr>\n",
       "    <tr>\n",
       "      <th>75%</th>\n",
       "      <td>18.844444</td>\n",
       "      <td>14.135800</td>\n",
       "      <td>1021.050000</td>\n",
       "      <td>0.890000</td>\n",
       "    </tr>\n",
       "    <tr>\n",
       "      <th>max</th>\n",
       "      <td>39.905556</td>\n",
       "      <td>63.852600</td>\n",
       "      <td>1046.380000</td>\n",
       "      <td>1.000000</td>\n",
       "    </tr>\n",
       "  </tbody>\n",
       "</table>\n",
       "</div>"
      ],
      "text/plain": [
       "       Temperature (C)  Wind Speed (km/h)  Pressure (millibars)      Humidity\n",
       "count     95936.000000       95936.000000          95936.000000  95936.000000\n",
       "mean         11.940976          10.804936           1003.150038      0.734841\n",
       "std           9.570671           6.920727            117.276976      0.195724\n",
       "min         -21.822222           0.000000              0.000000      0.000000\n",
       "25%           4.604167           5.796000           1011.890000      0.600000\n",
       "50%          12.033333           9.933700           1016.420000      0.780000\n",
       "75%          18.844444          14.135800           1021.050000      0.890000\n",
       "max          39.905556          63.852600           1046.380000      1.000000"
      ]
     },
     "execution_count": 481,
     "metadata": {},
     "output_type": "execute_result"
    }
   ],
   "source": [
    "df2 = df.dropna()\n",
    "df2.describe()"
   ]
  },
  {
   "cell_type": "code",
   "execution_count": 482,
   "metadata": {},
   "outputs": [],
   "source": [
    "# profile = ProfileReport(df2, title=\"Pandas Profiling Report\")\n",
    "# profile.to_file(\"df2.html\")\n",
    "\n"
   ]
  },
  {
   "cell_type": "code",
   "execution_count": 483,
   "metadata": {},
   "outputs": [
    {
     "name": "stderr",
     "output_type": "stream",
     "text": [
      "<ipython-input-483-0726cf5b3224>:2: SettingWithCopyWarning: \n",
      "A value is trying to be set on a copy of a slice from a DataFrame.\n",
      "Try using .loc[row_indexer,col_indexer] = value instead\n",
      "\n",
      "See the caveats in the documentation: https://pandas.pydata.org/pandas-docs/stable/user_guide/indexing.html#returning-a-view-versus-a-copy\n",
      "  df2['Formatted Date'] = df2['Formatted Date'].str.split(' ').str[0]\n"
     ]
    },
    {
     "data": {
      "text/html": [
       "<div>\n",
       "<style scoped>\n",
       "    .dataframe tbody tr th:only-of-type {\n",
       "        vertical-align: middle;\n",
       "    }\n",
       "\n",
       "    .dataframe tbody tr th {\n",
       "        vertical-align: top;\n",
       "    }\n",
       "\n",
       "    .dataframe thead th {\n",
       "        text-align: right;\n",
       "    }\n",
       "</style>\n",
       "<table border=\"1\" class=\"dataframe\">\n",
       "  <thead>\n",
       "    <tr style=\"text-align: right;\">\n",
       "      <th></th>\n",
       "      <th>Formatted Date</th>\n",
       "      <th>Summary</th>\n",
       "      <th>Precip Type</th>\n",
       "      <th>Temperature (C)</th>\n",
       "      <th>Wind Speed (km/h)</th>\n",
       "      <th>Pressure (millibars)</th>\n",
       "      <th>Humidity</th>\n",
       "    </tr>\n",
       "  </thead>\n",
       "  <tbody>\n",
       "    <tr>\n",
       "      <th>0</th>\n",
       "      <td>2006-04-01</td>\n",
       "      <td>Partly Cloudy</td>\n",
       "      <td>rain</td>\n",
       "      <td>9.472222</td>\n",
       "      <td>14.1197</td>\n",
       "      <td>1015.13</td>\n",
       "      <td>0.89</td>\n",
       "    </tr>\n",
       "    <tr>\n",
       "      <th>1</th>\n",
       "      <td>2006-04-01</td>\n",
       "      <td>Partly Cloudy</td>\n",
       "      <td>rain</td>\n",
       "      <td>9.355556</td>\n",
       "      <td>14.2646</td>\n",
       "      <td>1015.63</td>\n",
       "      <td>0.86</td>\n",
       "    </tr>\n",
       "    <tr>\n",
       "      <th>2</th>\n",
       "      <td>2006-04-01</td>\n",
       "      <td>Mostly Cloudy</td>\n",
       "      <td>rain</td>\n",
       "      <td>9.377778</td>\n",
       "      <td>3.9284</td>\n",
       "      <td>1015.94</td>\n",
       "      <td>0.89</td>\n",
       "    </tr>\n",
       "    <tr>\n",
       "      <th>3</th>\n",
       "      <td>2006-04-01</td>\n",
       "      <td>Partly Cloudy</td>\n",
       "      <td>rain</td>\n",
       "      <td>8.288889</td>\n",
       "      <td>14.1036</td>\n",
       "      <td>1016.41</td>\n",
       "      <td>0.83</td>\n",
       "    </tr>\n",
       "    <tr>\n",
       "      <th>4</th>\n",
       "      <td>2006-04-01</td>\n",
       "      <td>Mostly Cloudy</td>\n",
       "      <td>rain</td>\n",
       "      <td>8.755556</td>\n",
       "      <td>11.0446</td>\n",
       "      <td>1016.51</td>\n",
       "      <td>0.83</td>\n",
       "    </tr>\n",
       "  </tbody>\n",
       "</table>\n",
       "</div>"
      ],
      "text/plain": [
       "  Formatted Date        Summary Precip Type  Temperature (C)  \\\n",
       "0     2006-04-01  Partly Cloudy        rain         9.472222   \n",
       "1     2006-04-01  Partly Cloudy        rain         9.355556   \n",
       "2     2006-04-01  Mostly Cloudy        rain         9.377778   \n",
       "3     2006-04-01  Partly Cloudy        rain         8.288889   \n",
       "4     2006-04-01  Mostly Cloudy        rain         8.755556   \n",
       "\n",
       "   Wind Speed (km/h)  Pressure (millibars)  Humidity  \n",
       "0            14.1197               1015.13      0.89  \n",
       "1            14.2646               1015.63      0.86  \n",
       "2             3.9284               1015.94      0.89  \n",
       "3            14.1036               1016.41      0.83  \n",
       "4            11.0446               1016.51      0.83  "
      ]
     },
     "execution_count": 483,
     "metadata": {},
     "output_type": "execute_result"
    }
   ],
   "source": [
    "# delete time from Formated Date\n",
    "df2['Formatted Date'] = df2['Formatted Date'].str.split(' ').str[0]\n",
    "df2.head()\n"
   ]
  },
  {
   "cell_type": "code",
   "execution_count": 484,
   "metadata": {},
   "outputs": [
    {
     "name": "stderr",
     "output_type": "stream",
     "text": [
      "<ipython-input-484-a47be9781adb>:3: SettingWithCopyWarning: \n",
      "A value is trying to be set on a copy of a slice from a DataFrame.\n",
      "Try using .loc[row_indexer,col_indexer] = value instead\n",
      "\n",
      "See the caveats in the documentation: https://pandas.pydata.org/pandas-docs/stable/user_guide/indexing.html#returning-a-view-versus-a-copy\n",
      "  df3['Precip Type'] = df3['Precip Type'].replace('rain', 2)\n",
      "<ipython-input-484-a47be9781adb>:4: SettingWithCopyWarning: \n",
      "A value is trying to be set on a copy of a slice from a DataFrame.\n",
      "Try using .loc[row_indexer,col_indexer] = value instead\n",
      "\n",
      "See the caveats in the documentation: https://pandas.pydata.org/pandas-docs/stable/user_guide/indexing.html#returning-a-view-versus-a-copy\n",
      "  df3['Precip Type'] = df3['Precip Type'].replace('snow', 3)\n"
     ]
    },
    {
     "data": {
      "text/html": [
       "<div>\n",
       "<style scoped>\n",
       "    .dataframe tbody tr th:only-of-type {\n",
       "        vertical-align: middle;\n",
       "    }\n",
       "\n",
       "    .dataframe tbody tr th {\n",
       "        vertical-align: top;\n",
       "    }\n",
       "\n",
       "    .dataframe thead th {\n",
       "        text-align: right;\n",
       "    }\n",
       "</style>\n",
       "<table border=\"1\" class=\"dataframe\">\n",
       "  <thead>\n",
       "    <tr style=\"text-align: right;\">\n",
       "      <th></th>\n",
       "      <th>Formatted Date</th>\n",
       "      <th>Summary</th>\n",
       "      <th>Precip Type</th>\n",
       "      <th>Temperature (C)</th>\n",
       "      <th>Wind Speed (km/h)</th>\n",
       "      <th>Pressure (millibars)</th>\n",
       "      <th>Humidity</th>\n",
       "    </tr>\n",
       "  </thead>\n",
       "  <tbody>\n",
       "    <tr>\n",
       "      <th>0</th>\n",
       "      <td>2006-04-01</td>\n",
       "      <td>Partly Cloudy</td>\n",
       "      <td>2</td>\n",
       "      <td>9.472222</td>\n",
       "      <td>14.1197</td>\n",
       "      <td>1015.13</td>\n",
       "      <td>0.89</td>\n",
       "    </tr>\n",
       "    <tr>\n",
       "      <th>1</th>\n",
       "      <td>2006-04-01</td>\n",
       "      <td>Partly Cloudy</td>\n",
       "      <td>2</td>\n",
       "      <td>9.355556</td>\n",
       "      <td>14.2646</td>\n",
       "      <td>1015.63</td>\n",
       "      <td>0.86</td>\n",
       "    </tr>\n",
       "    <tr>\n",
       "      <th>2</th>\n",
       "      <td>2006-04-01</td>\n",
       "      <td>Mostly Cloudy</td>\n",
       "      <td>2</td>\n",
       "      <td>9.377778</td>\n",
       "      <td>3.9284</td>\n",
       "      <td>1015.94</td>\n",
       "      <td>0.89</td>\n",
       "    </tr>\n",
       "    <tr>\n",
       "      <th>3</th>\n",
       "      <td>2006-04-01</td>\n",
       "      <td>Partly Cloudy</td>\n",
       "      <td>2</td>\n",
       "      <td>8.288889</td>\n",
       "      <td>14.1036</td>\n",
       "      <td>1016.41</td>\n",
       "      <td>0.83</td>\n",
       "    </tr>\n",
       "    <tr>\n",
       "      <th>4</th>\n",
       "      <td>2006-04-01</td>\n",
       "      <td>Mostly Cloudy</td>\n",
       "      <td>2</td>\n",
       "      <td>8.755556</td>\n",
       "      <td>11.0446</td>\n",
       "      <td>1016.51</td>\n",
       "      <td>0.83</td>\n",
       "    </tr>\n",
       "  </tbody>\n",
       "</table>\n",
       "</div>"
      ],
      "text/plain": [
       "  Formatted Date        Summary  Precip Type  Temperature (C)  \\\n",
       "0     2006-04-01  Partly Cloudy            2         9.472222   \n",
       "1     2006-04-01  Partly Cloudy            2         9.355556   \n",
       "2     2006-04-01  Mostly Cloudy            2         9.377778   \n",
       "3     2006-04-01  Partly Cloudy            2         8.288889   \n",
       "4     2006-04-01  Mostly Cloudy            2         8.755556   \n",
       "\n",
       "   Wind Speed (km/h)  Pressure (millibars)  Humidity  \n",
       "0            14.1197               1015.13      0.89  \n",
       "1            14.2646               1015.63      0.86  \n",
       "2             3.9284               1015.94      0.89  \n",
       "3            14.1036               1016.41      0.83  \n",
       "4            11.0446               1016.51      0.83  "
      ]
     },
     "execution_count": 484,
     "metadata": {},
     "output_type": "execute_result"
    }
   ],
   "source": [
    "# replace Precip Type rain with 2 and snow with 3\n",
    "df3=df2\n",
    "df3['Precip Type'] = df3['Precip Type'].replace('rain', 2)\n",
    "df3['Precip Type'] = df3['Precip Type'].replace('snow', 3)\n",
    "df3.head()"
   ]
  },
  {
   "cell_type": "code",
   "execution_count": 485,
   "metadata": {},
   "outputs": [],
   "source": [
    "# drop summary\n",
    "df3 = df3.drop(['Summary'], axis=1)\n"
   ]
  },
  {
   "cell_type": "code",
   "execution_count": 486,
   "metadata": {},
   "outputs": [],
   "source": [
    "df3['year'] = df3['Formatted Date'].str.split('-').str[0]\n",
    "# convert year to int\n",
    "df3['year'] = df3['year'].astype(int)\n",
    "df3.describe()\n",
    "# drop Formatted Date\n",
    "df3 = df3.drop(['Formatted Date'], axis=1)\n",
    "\n"
   ]
  },
  {
   "cell_type": "code",
   "execution_count": 487,
   "metadata": {},
   "outputs": [],
   "source": [
    "# delete duplicate rows\n",
    "df4 = df3.drop_duplicates()\n",
    "# profile = ProfileReport(df4, title=\"Pandas Profiling Report\")\n",
    "# profile.to_file(\"df3.html\")\n"
   ]
  },
  {
   "cell_type": "code",
   "execution_count": 488,
   "metadata": {},
   "outputs": [
    {
     "data": {
      "text/html": [
       "<div>\n",
       "<style scoped>\n",
       "    .dataframe tbody tr th:only-of-type {\n",
       "        vertical-align: middle;\n",
       "    }\n",
       "\n",
       "    .dataframe tbody tr th {\n",
       "        vertical-align: top;\n",
       "    }\n",
       "\n",
       "    .dataframe thead th {\n",
       "        text-align: right;\n",
       "    }\n",
       "</style>\n",
       "<table border=\"1\" class=\"dataframe\">\n",
       "  <thead>\n",
       "    <tr style=\"text-align: right;\">\n",
       "      <th></th>\n",
       "      <th>Precip Type</th>\n",
       "      <th>Temperature (C)</th>\n",
       "      <th>Wind Speed (km/h)</th>\n",
       "      <th>Pressure (millibars)</th>\n",
       "      <th>Humidity</th>\n",
       "      <th>year</th>\n",
       "    </tr>\n",
       "  </thead>\n",
       "  <tbody>\n",
       "    <tr>\n",
       "      <th>count</th>\n",
       "      <td>95829.000000</td>\n",
       "      <td>95829.000000</td>\n",
       "      <td>95829.000000</td>\n",
       "      <td>95829.000000</td>\n",
       "      <td>95829.000000</td>\n",
       "      <td>95829.000000</td>\n",
       "    </tr>\n",
       "    <tr>\n",
       "      <th>mean</th>\n",
       "      <td>2.111355</td>\n",
       "      <td>11.946152</td>\n",
       "      <td>10.809225</td>\n",
       "      <td>1003.259579</td>\n",
       "      <td>0.734746</td>\n",
       "      <td>2010.980444</td>\n",
       "    </tr>\n",
       "    <tr>\n",
       "      <th>std</th>\n",
       "      <td>0.314572</td>\n",
       "      <td>9.566555</td>\n",
       "      <td>6.919555</td>\n",
       "      <td>116.802898</td>\n",
       "      <td>0.195724</td>\n",
       "      <td>3.155981</td>\n",
       "    </tr>\n",
       "    <tr>\n",
       "      <th>min</th>\n",
       "      <td>2.000000</td>\n",
       "      <td>-21.822222</td>\n",
       "      <td>0.000000</td>\n",
       "      <td>0.000000</td>\n",
       "      <td>0.000000</td>\n",
       "      <td>2006.000000</td>\n",
       "    </tr>\n",
       "    <tr>\n",
       "      <th>25%</th>\n",
       "      <td>2.000000</td>\n",
       "      <td>4.633333</td>\n",
       "      <td>5.812100</td>\n",
       "      <td>1011.890000</td>\n",
       "      <td>0.600000</td>\n",
       "      <td>2008.000000</td>\n",
       "    </tr>\n",
       "    <tr>\n",
       "      <th>50%</th>\n",
       "      <td>2.000000</td>\n",
       "      <td>12.038889</td>\n",
       "      <td>9.949800</td>\n",
       "      <td>1016.420000</td>\n",
       "      <td>0.780000</td>\n",
       "      <td>2011.000000</td>\n",
       "    </tr>\n",
       "    <tr>\n",
       "      <th>75%</th>\n",
       "      <td>2.000000</td>\n",
       "      <td>18.844444</td>\n",
       "      <td>14.135800</td>\n",
       "      <td>1021.050000</td>\n",
       "      <td>0.890000</td>\n",
       "      <td>2014.000000</td>\n",
       "    </tr>\n",
       "    <tr>\n",
       "      <th>max</th>\n",
       "      <td>3.000000</td>\n",
       "      <td>39.905556</td>\n",
       "      <td>63.852600</td>\n",
       "      <td>1046.380000</td>\n",
       "      <td>1.000000</td>\n",
       "      <td>2016.000000</td>\n",
       "    </tr>\n",
       "  </tbody>\n",
       "</table>\n",
       "</div>"
      ],
      "text/plain": [
       "        Precip Type  Temperature (C)  Wind Speed (km/h)  Pressure (millibars)  \\\n",
       "count  95829.000000     95829.000000       95829.000000          95829.000000   \n",
       "mean       2.111355        11.946152          10.809225           1003.259579   \n",
       "std        0.314572         9.566555           6.919555            116.802898   \n",
       "min        2.000000       -21.822222           0.000000              0.000000   \n",
       "25%        2.000000         4.633333           5.812100           1011.890000   \n",
       "50%        2.000000        12.038889           9.949800           1016.420000   \n",
       "75%        2.000000        18.844444          14.135800           1021.050000   \n",
       "max        3.000000        39.905556          63.852600           1046.380000   \n",
       "\n",
       "           Humidity          year  \n",
       "count  95829.000000  95829.000000  \n",
       "mean       0.734746   2010.980444  \n",
       "std        0.195724      3.155981  \n",
       "min        0.000000   2006.000000  \n",
       "25%        0.600000   2008.000000  \n",
       "50%        0.780000   2011.000000  \n",
       "75%        0.890000   2014.000000  \n",
       "max        1.000000   2016.000000  "
      ]
     },
     "execution_count": 488,
     "metadata": {},
     "output_type": "execute_result"
    }
   ],
   "source": [
    "df4.describe()"
   ]
  },
  {
   "cell_type": "code",
   "execution_count": 489,
   "metadata": {},
   "outputs": [],
   "source": [
    "# train a regression model\n",
    "from sklearn.model_selection import train_test_split\n",
    "from sklearn.linear_model import LinearRegression\n",
    "from sklearn.metrics import r2_score\n",
    "from sklearn.metrics import mean_squared_error\n",
    "from sklearn.metrics import mean_absolute_error\n",
    "from sklearn.metrics import explained_variance_score\n",
    "from sklearn.metrics import max_error\n"
   ]
  },
  {
   "cell_type": "code",
   "execution_count": 490,
   "metadata": {},
   "outputs": [],
   "source": [
    "# split data into train and test\n",
    "# drop \tPrecip Type ,year \n",
    "X = df4.drop(['Precip Type','year'], axis=1)\n",
    "y = df4['Precip Type']\n",
    "X_train, X_test, y_train, y_test = train_test_split(X, y, test_size=0.3, random_state=0)\n",
    "\n",
    "\n"
   ]
  },
  {
   "cell_type": "code",
   "execution_count": 491,
   "metadata": {},
   "outputs": [
    {
     "data": {
      "text/plain": [
       "LinearRegression()"
      ]
     },
     "execution_count": 491,
     "metadata": {},
     "output_type": "execute_result"
    }
   ],
   "source": [
    "# train the model\n",
    "regressor = LinearRegression()\n",
    "regressor.fit(X_train, y_train)"
   ]
  },
  {
   "cell_type": "code",
   "execution_count": 492,
   "metadata": {},
   "outputs": [
    {
     "name": "stdout",
     "output_type": "stream",
     "text": [
      "2.7424705151005906\n",
      "[-2.35759333e-02 -5.19127988e-03 -3.57024921e-06 -3.94821534e-01]\n"
     ]
    }
   ],
   "source": [
    "# predict the test set results\n",
    "y_pred = regressor.predict(X_test)\n",
    "y_pred\n",
    "# print the intercept and coefficients\n",
    "print(regressor.intercept_)\n",
    "print(regressor.coef_)\n"
   ]
  },
  {
   "cell_type": "code",
   "execution_count": 493,
   "metadata": {},
   "outputs": [
    {
     "name": "stdout",
     "output_type": "stream",
     "text": [
      "R2 score:  0.35657108883899613\n",
      "Mean Squared Error:  0.06376890298470203\n",
      "Mean Absolute Error:  0.18946510773000563\n",
      "Explained Variance Score:  0.35658219924432755\n",
      "Max Error:  0.8155596480274014\n"
     ]
    }
   ],
   "source": [
    "# evaluate the model\n",
    "print('R2 score: ', r2_score(y_test, y_pred))\n",
    "print('Mean Squared Error: ', mean_squared_error(y_test, y_pred))\n",
    "print('Mean Absolute Error: ', mean_absolute_error(y_test, y_pred))\n",
    "print('Explained Variance Score: ', explained_variance_score(y_test, y_pred))\n",
    "print('Max Error: ', max_error(y_test, y_pred))\n"
   ]
  },
  {
   "cell_type": "code",
   "execution_count": 494,
   "metadata": {},
   "outputs": [],
   "source": [
    "# train a regression model classification model with KNN algorithm\n",
    "from sklearn.neighbors import KNeighborsClassifier\n",
    "from sklearn.metrics import accuracy_score\n",
    "from sklearn.metrics import confusion_matrix\n",
    "from sklearn.metrics import classification_report\n",
    "\n",
    "\n",
    "    "
   ]
  },
  {
   "cell_type": "code",
   "execution_count": 495,
   "metadata": {},
   "outputs": [],
   "source": [
    "# split data into train and test\n",
    "# drop \tPrecip Type ,year\n",
    "X = df4.drop(['Precip Type','year'], axis=1)\n",
    "y = df4['Precip Type']\n",
    "X_train, X_test, y_train, y_test = train_test_split(X, y, test_size=0.3, random_state=0)\n"
   ]
  },
  {
   "cell_type": "code",
   "execution_count": 496,
   "metadata": {},
   "outputs": [
    {
     "data": {
      "text/plain": [
       "KNeighborsClassifier()"
      ]
     },
     "execution_count": 496,
     "metadata": {},
     "output_type": "execute_result"
    }
   ],
   "source": [
    "# train the model\n",
    "knn = KNeighborsClassifier(n_neighbors=5)\n",
    "knn.fit(X_train, y_train)\n"
   ]
  },
  {
   "cell_type": "code",
   "execution_count": 497,
   "metadata": {},
   "outputs": [
    {
     "data": {
      "text/plain": [
       "array([2, 3, 3, ..., 2, 2, 2], dtype=int64)"
      ]
     },
     "execution_count": 497,
     "metadata": {},
     "output_type": "execute_result"
    }
   ],
   "source": [
    "# predict the test set results\n",
    "y_pred = knn.predict(X_test)\n",
    "y_pred\n"
   ]
  },
  {
   "cell_type": "code",
   "execution_count": 498,
   "metadata": {},
   "outputs": [
    {
     "name": "stdout",
     "output_type": "stream",
     "text": [
      "Accuracy:  0.9905388013496121\n",
      "Confusion Matrix:  [[25398   144]\n",
      " [  128  3079]]\n",
      "Classification Report:                precision    recall  f1-score   support\n",
      "\n",
      "           2       0.99      0.99      0.99     25542\n",
      "           3       0.96      0.96      0.96      3207\n",
      "\n",
      "    accuracy                           0.99     28749\n",
      "   macro avg       0.98      0.98      0.98     28749\n",
      "weighted avg       0.99      0.99      0.99     28749\n",
      "\n"
     ]
    }
   ],
   "source": [
    "# evaluate the model\n",
    "print('Accuracy: ', accuracy_score(y_test, y_pred))\n",
    "print('Confusion Matrix: ', confusion_matrix(y_test, y_pred))\n",
    "print('Classification Report: ', classification_report(y_test, y_pred))\n"
   ]
  },
  {
   "cell_type": "code",
   "execution_count": 499,
   "metadata": {},
   "outputs": [
    {
     "data": {
      "image/png": "[encoded data removed]",
      "text/plain": [
       "<Figure size 432x288 with 2 Axes>"
      ]
     },
     "metadata": {
      "needs_background": "light"
     },
     "output_type": "display_data"
    }
   ],
   "source": [
    "# confusion matrix visualization\n",
    "from sklearn.metrics import plot_confusion_matrix\n",
    "plot_confusion_matrix(knn, X_test, y_test)\n",
    "plt.show()\n"
   ]
  },
  {
   "cell_type": "code",
   "execution_count": 500,
   "metadata": {},
   "outputs": [
    {
     "name": "stdout",
     "output_type": "stream",
     "text": [
      "Accuracy: 99.05 %\n",
      "Standard Deviation: 0.09 %\n"
     ]
    }
   ],
   "source": [
    "# do the k-fold cross validation\n",
    "from sklearn.model_selection import cross_val_score\n",
    "accuracies = cross_val_score(estimator=knn, X=X_train, y=y_train, cv=10)\n",
    "print('Accuracy: {:.2f} %'.format(accuracies.mean()*100))\n",
    "print('Standard Deviation: {:.2f} %'.format(accuracies.std()*100))\n"
   ]
  },
  {
   "cell_type": "code",
   "execution_count": 501,
   "metadata": {},
   "outputs": [
    {
     "name": "stdout",
     "output_type": "stream",
     "text": [
      "Accuracies:  [0.99031008 0.98971377 0.98926655 0.99001193 0.99105546 0.9907573\n",
      " 0.98971377 0.99031008 0.99105546 0.99269529]\n"
     ]
    }
   ],
   "source": [
    "# show each fold accuracy\n",
    "print('Accuracies: ', accuracies)\n",
    "\n"
   ]
  },
  {
   "cell_type": "code",
   "execution_count": 502,
   "metadata": {},
   "outputs": [],
   "source": [
    "# train a regression model classification model with logistic regression algorithm\n",
    "from sklearn.linear_model import LogisticRegression\n",
    "from sklearn.metrics import accuracy_score\n",
    "from sklearn.metrics import confusion_matrix\n",
    "from sklearn.metrics import classification_report\n",
    "\n"
   ]
  },
  {
   "cell_type": "code",
   "execution_count": 503,
   "metadata": {},
   "outputs": [],
   "source": [
    "# split data into train and test\n",
    "# drop \tPrecip Type ,year\n",
    "X = df4.drop(['Precip Type','year'], axis=1)\n",
    "y = df4['Precip Type']\n",
    "X_train, X_test, y_train, y_test = train_test_split(X, y, test_size=0.3, random_state=0)\n"
   ]
  },
  {
   "cell_type": "code",
   "execution_count": 504,
   "metadata": {},
   "outputs": [
    {
     "data": {
      "text/plain": [
       "LogisticRegression()"
      ]
     },
     "execution_count": 504,
     "metadata": {},
     "output_type": "execute_result"
    }
   ],
   "source": [
    "# train the model\n",
    "logreg = LogisticRegression()\n",
    "logreg.fit(X_train, y_train)\n"
   ]
  },
  {
   "cell_type": "code",
   "execution_count": 505,
   "metadata": {},
   "outputs": [
    {
     "data": {
      "text/plain": [
       "array([2, 3, 3, ..., 2, 2, 2], dtype=int64)"
      ]
     },
     "execution_count": 505,
     "metadata": {},
     "output_type": "execute_result"
    }
   ],
   "source": [
    "# predict the test set results\n",
    "y_pred = logreg.predict(X_test)\n",
    "y_pred\n"
   ]
  },
  {
   "cell_type": "code",
   "execution_count": 506,
   "metadata": {},
   "outputs": [
    {
     "name": "stdout",
     "output_type": "stream",
     "text": [
      "Accuracy:  0.9986782148944311\n",
      "Confusion Matrix:  [[25504    38]\n",
      " [    0  3207]]\n",
      "Classification Report:                precision    recall  f1-score   support\n",
      "\n",
      "           2       1.00      1.00      1.00     25542\n",
      "           3       0.99      1.00      0.99      3207\n",
      "\n",
      "    accuracy                           1.00     28749\n",
      "   macro avg       0.99      1.00      1.00     28749\n",
      "weighted avg       1.00      1.00      1.00     28749\n",
      "\n"
     ]
    }
   ],
   "source": [
    "# evaluate the model\n",
    "print('Accuracy: ', accuracy_score(y_test, y_pred))\n",
    "print('Confusion Matrix: ', confusion_matrix(y_test, y_pred))\n",
    "print('Classification Report: ', classification_report(y_test, y_pred))\n"
   ]
  },
  {
   "cell_type": "code",
   "execution_count": 507,
   "metadata": {},
   "outputs": [
    {
     "data": {
      "image/png": "[encoded data removed]",
      "text/plain": [
       "<Figure size 432x288 with 2 Axes>"
      ]
     },
     "metadata": {
      "needs_background": "light"
     },
     "output_type": "display_data"
    }
   ],
   "source": [
    "# confusion matrix visualization\n",
    "from sklearn.metrics import plot_confusion_matrix\n",
    "plot_confusion_matrix(logreg, X_test, y_test)\n",
    "plt.show()\n"
   ]
  },
  {
   "cell_type": "code",
   "execution_count": 508,
   "metadata": {},
   "outputs": [
    {
     "data": {
      "text/html": [
       "<div>\n",
       "<style scoped>\n",
       "    .dataframe tbody tr th:only-of-type {\n",
       "        vertical-align: middle;\n",
       "    }\n",
       "\n",
       "    .dataframe tbody tr th {\n",
       "        vertical-align: top;\n",
       "    }\n",
       "\n",
       "    .dataframe thead th {\n",
       "        text-align: right;\n",
       "    }\n",
       "</style>\n",
       "<table border=\"1\" class=\"dataframe\">\n",
       "  <thead>\n",
       "    <tr style=\"text-align: right;\">\n",
       "      <th></th>\n",
       "      <th>Temperature (C)</th>\n",
       "      <th>Wind Speed (km/h)</th>\n",
       "      <th>Pressure (millibars)</th>\n",
       "      <th>Humidity</th>\n",
       "    </tr>\n",
       "  </thead>\n",
       "  <tbody>\n",
       "    <tr>\n",
       "      <th>0</th>\n",
       "      <td>10.0</td>\n",
       "      <td>14.0</td>\n",
       "      <td>1003.0</td>\n",
       "      <td>0.89</td>\n",
       "    </tr>\n",
       "  </tbody>\n",
       "</table>\n",
       "</div>"
      ],
      "text/plain": [
       "   Temperature (C)  Wind Speed (km/h)  Pressure (millibars)  Humidity\n",
       "0             10.0               14.0                1003.0      0.89"
      ]
     },
     "execution_count": 508,
     "metadata": {},
     "output_type": "execute_result"
    }
   ],
   "source": [
    "# predic a new data Temperature (C)\tWind Speed (km/h)\tPressure (millibars)\tHumidity\n",
    "new_data=pd.DataFrame({'Temperature (C)':[10.0],'Wind Speed (km/h)':[14.0],'Pressure (millibars)':[1003.0],'Humidity':[0.89]})\n",
    "new_data\n",
    "\n"
   ]
  },
  {
   "cell_type": "code",
   "execution_count": 509,
   "metadata": {},
   "outputs": [],
   "source": [
    "# function to convert numbers to percip type\n",
    "def convert_to_percip_type(x):\n",
    "    x=int(x)\n",
    "    if x==2:\n",
    "        return 'rain'\n",
    "    else:\n",
    "        return 'snow'"
   ]
  },
  {
   "cell_type": "code",
   "execution_count": 510,
   "metadata": {},
   "outputs": [
    {
     "name": "stdout",
     "output_type": "stream",
     "text": [
      "Precip Type is via regression:  [2.07906114] rain\n",
      "Precip Type is via KNN:  [2] rain\n",
      "Precip Type is via logistic regression:  [2] rain\n"
     ]
    }
   ],
   "source": [
    "# predict the new data with regression model\n",
    "regp=regressor.predict(new_data)\n",
    "print(\"Precip Type is via regression: \",regp,convert_to_percip_type(regp))\n",
    "\n",
    "\n",
    "\n",
    "# predict the new data with KNN model\n",
    "knnp=knn.predict(new_data)\n",
    "print(\"Precip Type is via KNN: \",knnp,convert_to_percip_type(knnp))\n",
    "\n",
    "# predict the new data with logistic regression model\n",
    "logregp=logreg.predict(new_data)\n",
    "print(\"Precip Type is via logistic regression: \",logregp,convert_to_percip_type(logregp))\n"
   ]
  },
  {
   "cell_type": "code",
   "execution_count": 511,
   "metadata": {},
   "outputs": [
    {
     "data": {
      "text/html": [
       "<div>\n",
       "<style scoped>\n",
       "    .dataframe tbody tr th:only-of-type {\n",
       "        vertical-align: middle;\n",
       "    }\n",
       "\n",
       "    .dataframe tbody tr th {\n",
       "        vertical-align: top;\n",
       "    }\n",
       "\n",
       "    .dataframe thead th {\n",
       "        text-align: right;\n",
       "    }\n",
       "</style>\n",
       "<table border=\"1\" class=\"dataframe\">\n",
       "  <thead>\n",
       "    <tr style=\"text-align: right;\">\n",
       "      <th></th>\n",
       "      <th>Precip Type</th>\n",
       "      <th>Temperature (C)</th>\n",
       "      <th>Wind Speed (km/h)</th>\n",
       "      <th>Pressure (millibars)</th>\n",
       "      <th>Humidity</th>\n",
       "      <th>year</th>\n",
       "    </tr>\n",
       "  </thead>\n",
       "  <tbody>\n",
       "    <tr>\n",
       "      <th>1562</th>\n",
       "      <td>3</td>\n",
       "      <td>-0.483333</td>\n",
       "      <td>11.0929</td>\n",
       "      <td>1031.56</td>\n",
       "      <td>1.00</td>\n",
       "      <td>2006</td>\n",
       "    </tr>\n",
       "    <tr>\n",
       "      <th>1563</th>\n",
       "      <td>3</td>\n",
       "      <td>-0.483333</td>\n",
       "      <td>10.7387</td>\n",
       "      <td>1031.47</td>\n",
       "      <td>0.96</td>\n",
       "      <td>2006</td>\n",
       "    </tr>\n",
       "    <tr>\n",
       "      <th>1564</th>\n",
       "      <td>3</td>\n",
       "      <td>-0.922222</td>\n",
       "      <td>7.0679</td>\n",
       "      <td>1031.23</td>\n",
       "      <td>1.00</td>\n",
       "      <td>2006</td>\n",
       "    </tr>\n",
       "    <tr>\n",
       "      <th>1565</th>\n",
       "      <td>3</td>\n",
       "      <td>-1.038889</td>\n",
       "      <td>9.4990</td>\n",
       "      <td>1031.41</td>\n",
       "      <td>1.00</td>\n",
       "      <td>2006</td>\n",
       "    </tr>\n",
       "    <tr>\n",
       "      <th>1566</th>\n",
       "      <td>3</td>\n",
       "      <td>-1.088889</td>\n",
       "      <td>9.4346</td>\n",
       "      <td>1031.98</td>\n",
       "      <td>1.00</td>\n",
       "      <td>2006</td>\n",
       "    </tr>\n",
       "    <tr>\n",
       "      <th>...</th>\n",
       "      <td>...</td>\n",
       "      <td>...</td>\n",
       "      <td>...</td>\n",
       "      <td>...</td>\n",
       "      <td>...</td>\n",
       "      <td>...</td>\n",
       "    </tr>\n",
       "    <tr>\n",
       "      <th>93265</th>\n",
       "      <td>3</td>\n",
       "      <td>-0.783333</td>\n",
       "      <td>6.1019</td>\n",
       "      <td>1016.30</td>\n",
       "      <td>0.99</td>\n",
       "      <td>2016</td>\n",
       "    </tr>\n",
       "    <tr>\n",
       "      <th>93266</th>\n",
       "      <td>3</td>\n",
       "      <td>-1.111111</td>\n",
       "      <td>0.0000</td>\n",
       "      <td>1016.41</td>\n",
       "      <td>0.93</td>\n",
       "      <td>2016</td>\n",
       "    </tr>\n",
       "    <tr>\n",
       "      <th>93267</th>\n",
       "      <td>3</td>\n",
       "      <td>-1.044444</td>\n",
       "      <td>0.0000</td>\n",
       "      <td>1016.60</td>\n",
       "      <td>1.00</td>\n",
       "      <td>2016</td>\n",
       "    </tr>\n",
       "    <tr>\n",
       "      <th>93311</th>\n",
       "      <td>3</td>\n",
       "      <td>-0.511111</td>\n",
       "      <td>3.5098</td>\n",
       "      <td>1004.57</td>\n",
       "      <td>1.00</td>\n",
       "      <td>2016</td>\n",
       "    </tr>\n",
       "    <tr>\n",
       "      <th>93506</th>\n",
       "      <td>3</td>\n",
       "      <td>-0.027778</td>\n",
       "      <td>7.8568</td>\n",
       "      <td>1014.76</td>\n",
       "      <td>0.99</td>\n",
       "      <td>2016</td>\n",
       "    </tr>\n",
       "  </tbody>\n",
       "</table>\n",
       "<p>10671 rows × 6 columns</p>\n",
       "</div>"
      ],
      "text/plain": [
       "       Precip Type  Temperature (C)  Wind Speed (km/h)  Pressure (millibars)  \\\n",
       "1562             3        -0.483333            11.0929               1031.56   \n",
       "1563             3        -0.483333            10.7387               1031.47   \n",
       "1564             3        -0.922222             7.0679               1031.23   \n",
       "1565             3        -1.038889             9.4990               1031.41   \n",
       "1566             3        -1.088889             9.4346               1031.98   \n",
       "...            ...              ...                ...                   ...   \n",
       "93265            3        -0.783333             6.1019               1016.30   \n",
       "93266            3        -1.111111             0.0000               1016.41   \n",
       "93267            3        -1.044444             0.0000               1016.60   \n",
       "93311            3        -0.511111             3.5098               1004.57   \n",
       "93506            3        -0.027778             7.8568               1014.76   \n",
       "\n",
       "       Humidity  year  \n",
       "1562       1.00  2006  \n",
       "1563       0.96  2006  \n",
       "1564       1.00  2006  \n",
       "1565       1.00  2006  \n",
       "1566       1.00  2006  \n",
       "...         ...   ...  \n",
       "93265      0.99  2016  \n",
       "93266      0.93  2016  \n",
       "93267      1.00  2016  \n",
       "93311      1.00  2016  \n",
       "93506      0.99  2016  \n",
       "\n",
       "[10671 rows x 6 columns]"
      ]
     },
     "execution_count": 511,
     "metadata": {},
     "output_type": "execute_result"
    }
   ],
   "source": [
    "# show a row with percip type 3\n",
    "df4[df4['Precip Type']==3]\n"
   ]
  },
  {
   "cell_type": "code",
   "execution_count": 512,
   "metadata": {},
   "outputs": [],
   "source": [
    "# create a new data \n",
    "new_data=pd.DataFrame({'Temperature (C)':[-1.111111],'Wind Speed (km/h)':[3.5098],'Pressure (millibars)':[1031.41],'Humidity':[0.93]})"
   ]
  },
  {
   "cell_type": "code",
   "execution_count": 513,
   "metadata": {},
   "outputs": [
    {
     "name": "stdout",
     "output_type": "stream",
     "text": [
      "Precip Type is via regression:  [2.37957922] rain\n",
      "Precip Type is via KNN:  [3] snow\n",
      "Precip Type is via logistic regression:  [3] snow\n"
     ]
    }
   ],
   "source": [
    "# predict the new data with regression model\n",
    "regp=regressor.predict(new_data)\n",
    "print(\"Precip Type is via regression: \",regp,convert_to_percip_type(regp))\n",
    "\n",
    "# predict the new data with KNN model\n",
    "knnp=knn.predict(new_data)\n",
    "print(\"Precip Type is via KNN: \",knnp,convert_to_percip_type(knnp))\n",
    "\n",
    "# predict the new data with logistic regression model\n",
    "logregp=logreg.predict(new_data)\n",
    "print(\"Precip Type is via logistic regression: \",logregp,convert_to_percip_type(logregp))\n"
   ]
  }
 ],
 "metadata": {
  "kernelspec": {
   "display_name": "Python 3.8.8 ('base')",
   "language": "python",
   "name": "python3"
  },
  "language_info": {
   "codemirror_mode": {
    "name": "ipython",
    "version": 3
   },
   "file_extension": ".py",
   "mimetype": "text/x-python",
   "name": "python",
   "nbconvert_exporter": "python",
   "pygments_lexer": "ipython3",
   "version": "3.8.8"
  },
  "orig_nbformat": 4,
  "vscode": {
   "interpreter": {
    "hash": "ac5b758bf066f79017cb76607e9a066500464ebec457930d2a1c8f8fe5fc922f"
   }
  }
 },
 "nbformat": 4,
 "nbformat_minor": 2
}
